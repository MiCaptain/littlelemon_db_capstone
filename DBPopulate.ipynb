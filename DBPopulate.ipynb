{
 "cells": [
  {
   "cell_type": "code",
   "execution_count": 20,
   "metadata": {},
   "outputs": [
    {
     "name": "stdout",
     "output_type": "stream",
     "text": [
      "Importing MySQL Connector/Python API\n",
      "MySQL Connector/Python API is imported successfully.\n",
      "\n"
     ]
    }
   ],
   "source": [
    "# Print a message to guide the user\n",
    "# Import MySQL Connector/Python\n",
    "print(\"Importing MySQL Connector/Python API\")\n",
    "import mysql.connector as connector\n",
    "print(\"MySQL Connector/Python API is imported successfully.\\n\")\n",
    "from mysql.connector.pooling import MySQLConnectionPool, Error"
   ]
  },
  {
   "cell_type": "code",
   "execution_count": 21,
   "metadata": {},
   "outputs": [
    {
     "name": "stdout",
     "output_type": "stream",
     "text": [
      "Establishing a new connection between MySQL and Python.\n",
      "The connection pool is created with a name:  ll_pool_a\n",
      "The pool size is: 3\n",
      "Getting a connection from the pool.\n",
      "A user with connection id 181 is connected to the database.\n",
      "MySQL server version is: 8.0.32\n"
     ]
    }
   ],
   "source": [
    "# Establis connection with authorized user/password\n",
    "print(\"Establishing a new connection between MySQL and Python.\")\n",
    "#connection=connector.connect(user=\"your_username\",password=\"your_password\")\n",
    "\n",
    "dbconfig = {\n",
    "    \"database\":\"littlelemonfinaldb\",\n",
    "    \"user\" : \"root\",\n",
    "    \"password\" : \"159159Az!\"\n",
    "}\n",
    "\n",
    "try:\n",
    "    pool = MySQLConnectionPool(pool_name = \"ll_pool_a\",\n",
    "                           pool_size = 3, #default is 5\n",
    "                           **dbconfig)\n",
    "    print(\"The connection pool is created with a name: \",pool.pool_name)\n",
    "    print(\"The pool size is:\",pool.pool_size)\n",
    "\n",
    "except Error as er:\n",
    "    print(\"Error code:\", er.errno)\n",
    "    print(\"Error message:\", er.msg)\n",
    "\n",
    "# Get the connection from the connection pool \"pool\"\n",
    "print(\"Getting a connection from the pool.\")\n",
    "connection = pool.get_connection()\n",
    "\n",
    "print(\"A user with connection id {} is connected to the database.\".format(\n",
    "    connection.connection_id))\n",
    "\n",
    "db_Info = connection.get_server_info()\n",
    "print(\"MySQL server version is:\", db_Info)\n",
    "\n"
   ]
  },
  {
   "cell_type": "code",
   "execution_count": 22,
   "metadata": {},
   "outputs": [
    {
     "name": "stdout",
     "output_type": "stream",
     "text": [
      "Creating a cursor object.\n"
     ]
    }
   ],
   "source": [
    "# Create cursor object to communicate with entire MySQL database\n",
    "print(\"Creating a cursor object.\")\n",
    "cursor = connection.cursor()"
   ]
  },
  {
   "cell_type": "code",
   "execution_count": 23,
   "metadata": {},
   "outputs": [
    {
     "name": "stdout",
     "output_type": "stream",
     "text": [
      "Selecting database.\n"
     ]
    }
   ],
   "source": [
    "print(\"Selecting database.\")\n",
    "cursor.execute(\"USE littlelemonfinaldb\")"
   ]
  },
  {
   "cell_type": "code",
   "execution_count": null,
   "metadata": {},
   "outputs": [],
   "source": []
  },
  {
   "cell_type": "code",
   "execution_count": 24,
   "metadata": {},
   "outputs": [
    {
     "name": "stdout",
     "output_type": "stream",
     "text": [
      "Inserting data in MenuItems table.\n",
      "Total number of rows modifieds/inserted by this query:  0\n",
      "('ItemID', 'CourseName', 'StarterName', 'DesertName')\n",
      "(1, 'Salmon', 'Caesar Salad', 'Cheesecake')\n",
      "(2, 'Beef Wellington', 'Caprese Salad', 'Chocolate Mousse')\n",
      "(3, 'Lobster Bisque', 'Tuna Tartare', 'Crème Brûlée')\n",
      "(4, 'Mushroom Risotto', 'Minestrone Soup', 'Tiramisu')\n",
      "(5, 'Chicken Marsala', 'Bruschetta', 'Panna Cotta')\n",
      "(6, 'Shrimp Scampi', 'House Salad', 'Gelato')\n",
      "(7, 'Filet Mignon', 'French Onion Soup', 'Chocolate Fondant')\n",
      "(8, 'Grilled Octopus', 'Greek Salad', 'Baklava')\n",
      "(9, 'Lamb Chops', 'Hummus', 'Turkish Delight')\n",
      "(10, 'Veal Parmesan', 'Antipasti Platter', 'Cannoli')\n",
      "(11, 'Sushi Platter', 'Miso Soup', 'Green Tea Ice Cream')\n",
      "(12, 'Crab Cakes', 'Seafood Chowder', 'Key Lime Pie')\n",
      "(13, 'Pork Tenderloin', 'Arugula Salad', 'Chocolate Cake')\n",
      "(14, 'Vegetable Curry', 'Naan Bread', 'Mango Sorbet')\n"
     ]
    }
   ],
   "source": [
    "#*******************************************************#\n",
    "# Insert query to populate \"MenuItems\" table:\n",
    "#*******************************************************#\n",
    "#Using INSERT IGNORE, so no fun stuff happen.\n",
    "insert_menuitems=\"\"\"\n",
    "INSERT IGNORE INTO MenuItems (ItemID, CourseName, StarterName, DesertName)\n",
    "VALUES\n",
    "(1, 'Salmon', 'Caesar Salad', 'Cheesecake'),\n",
    "(2, 'Beef Wellington', 'Caprese Salad', 'Chocolate Mousse'),\n",
    "(3, 'Lobster Bisque', 'Tuna Tartare', 'Crème Brûlée'),\n",
    "(4, 'Mushroom Risotto', 'Minestrone Soup', 'Tiramisu'),\n",
    "(5, 'Chicken Marsala', 'Bruschetta', 'Panna Cotta'),\n",
    "(6, 'Shrimp Scampi', 'House Salad', 'Gelato'),\n",
    "(7, 'Filet Mignon', 'French Onion Soup', 'Chocolate Fondant'),\n",
    "(8, 'Grilled Octopus', 'Greek Salad', 'Baklava'),\n",
    "(9, 'Lamb Chops', 'Hummus', 'Turkish Delight'),\n",
    "(10, 'Veal Parmesan', 'Antipasti Platter', 'Cannoli'),\n",
    "(11, 'Sushi Platter', 'Miso Soup', 'Green Tea Ice Cream'),\n",
    "(12, 'Crab Cakes', 'Seafood Chowder', 'Key Lime Pie'),\n",
    "(13, 'Pork Tenderloin', 'Arugula Salad', 'Chocolate Cake'),\n",
    "(14, 'Vegetable Curry', 'Naan Bread', 'Mango Sorbet');\n",
    "\"\"\"\n",
    "\n",
    "print(\"Inserting data in MenuItems table.\")\n",
    "# Populate MenuItems table\n",
    "cursor.execute(insert_menuitems)\n",
    "print(\"Total number of rows modifieds/inserted by this query: \", cursor.rowcount)\n",
    "# Once the query is executed, you commit the change into the database \n",
    "connection.commit()\n",
    "\n",
    "# Cheking if everthing is allright.\n",
    "show_menu=\"\"\"SELECT * FROM MenuItems\"\"\"\n",
    "cursor.execute(show_menu)\n",
    "# Retrieve the column names\n",
    "cols = cursor.column_names\n",
    "# Printing columns\n",
    "print(cols)\n",
    "# Printing the table\n",
    "result = cursor.fetchall()\n",
    "for results in result:\n",
    "    print(results)"
   ]
  },
  {
   "cell_type": "code",
   "execution_count": 25,
   "metadata": {},
   "outputs": [
    {
     "name": "stdout",
     "output_type": "stream",
     "text": [
      "Inserting data in Menus table.\n",
      "Total number of rows modifieds/inserted by this query:  0\n",
      "('MenuID', 'ItemID', 'MenuName', 'Cuisine')\n",
      "(1, 1, 'Pacific Catch', 'Seafood')\n",
      "(2, 2, 'English Countryside', 'British')\n",
      "(3, 3, 'New England Feast', 'American')\n",
      "(4, 4, 'Italian Delight', 'Italian')\n",
      "(5, 5, 'Mediterranean Nights', 'Mediterranean')\n",
      "(6, 6, 'Coastal Bliss', 'Seafood')\n",
      "(7, 7, 'Classic Steakhouse', 'American')\n",
      "(8, 8, 'Greek Isles', 'Greek')\n",
      "(9, 9, 'Middle Eastern Journey', 'Middle Eastern')\n",
      "(10, 10, 'Italian Feast', 'Italian')\n",
      "(11, 11, 'Sushi Night', 'Japanese')\n",
      "(12, 12, 'East Coast Seafood', 'Seafood')\n",
      "(13, 13, 'Taste of the South', 'American')\n",
      "(14, 14, 'Vegetarian Delight', 'Vegetarian')\n"
     ]
    }
   ],
   "source": [
    "#*******************************************************#\n",
    "# Insert query to populate \"Menu\" table:\n",
    "#*******************************************************#\n",
    "insert_menus=\"\"\"\n",
    "INSERT IGNORE INTO Menus (MenuID, ItemID, MenuName, Cuisine)\n",
    "VALUES\n",
    "(1, 1, 'Pacific Catch', 'Seafood'),\n",
    "(2, 2, 'English Countryside', 'British'),\n",
    "(3, 3, 'New England Feast', 'American'),\n",
    "(4, 4, 'Italian Delight', 'Italian'),\n",
    "(5, 5, 'Mediterranean Nights', 'Mediterranean'),\n",
    "(6, 6, 'Coastal Bliss', 'Seafood'),\n",
    "(7, 7, 'Classic Steakhouse', 'American'),\n",
    "(8, 8, 'Greek Isles', 'Greek'),\n",
    "(9, 9, 'Middle Eastern Journey', 'Middle Eastern'),\n",
    "(10, 10, 'Italian Feast', 'Italian'),\n",
    "(11, 11, 'Sushi Night', 'Japanese'),\n",
    "(12, 12, 'East Coast Seafood', 'Seafood'),\n",
    "(13, 13, 'Taste of the South', 'American'),\n",
    "(14, 14, 'Vegetarian Delight', 'Vegetarian');\"\"\"\n",
    "\n",
    "print(\"Inserting data in Menus table.\")\n",
    "# Populate Menus table\n",
    "cursor.execute(insert_menus)\n",
    "print(\"Total number of rows modifieds/inserted by this query: \", cursor.rowcount)\n",
    "# Once the query is executed, you commit the change into the database \n",
    "connection.commit()\n",
    "\n",
    "# Cheking if everthing is allright.\n",
    "show_menus=\"\"\"SELECT * FROM Menus\"\"\"\n",
    "cursor.execute(show_menus)\n",
    "# Retrieve the column names\n",
    "cols = cursor.column_names\n",
    "# Printing columns\n",
    "print(cols)\n",
    "# Printing the table\n",
    "result = cursor.fetchall()\n",
    "for results in result:\n",
    "    print(results)"
   ]
  },
  {
   "cell_type": "code",
   "execution_count": 26,
   "metadata": {},
   "outputs": [
    {
     "name": "stdout",
     "output_type": "stream",
     "text": [
      "Inserting data in Customers table.\n",
      "Total number of rows modifieds/inserted by this query:  0\n",
      "('CustomersID', 'GuestFirstName', 'GuestLastName', 'Email', 'PhoneNumber')\n",
      "(1, 'Anna', 'Iversen', 'Anna.Iv@Livmail.com', 984253698)\n",
      "(2, 'John', 'Doe', 'johndoe@example.com', 123456789)\n",
      "(3, 'Jane', 'Doe', 'janedoe@example.com', 234567890)\n",
      "(4, 'Alice', 'Smith', 'alicesmith@example.com', 345678901)\n",
      "(5, 'Bob', 'Smith', 'bobsmith@example.com', 456789012)\n",
      "(6, 'David', 'Lee', 'davidlee@example.com', 567890123)\n",
      "(7, 'Sarah', 'Kim', 'sarahkim@example.com', 678901234)\n",
      "(8, 'James', 'Johnson', 'jamesjohnson@example.com', 789012345)\n",
      "(9, 'Emily', 'Davis', 'emilydavis@example.com', 890123456)\n",
      "(10, 'William', 'Brown', 'williambrown@example.com', 901234567)\n",
      "(11, 'Olivia', 'Taylor', 'oliviataylor@example.com', 123456789)\n",
      "(12, 'Michael', 'Miller', 'michaelmiller@example.com', 234567890)\n"
     ]
    }
   ],
   "source": [
    "#*******************************************************#\n",
    "# Insert query to populate \"Customers\" table:\n",
    "#*******************************************************#\n",
    "insert_customers=\"\"\"\n",
    "INSERT IGNORE INTO Customers (CustomersID, GuestFirstName, GuestLastName, Email, PhoneNumber)\n",
    "VALUES\n",
    "(1, 'Anna','Iversen','Anna.Iv@Livmail.com',984253698),\n",
    "(2, 'John', 'Doe', 'johndoe@example.com', 123456789),\n",
    "(3, 'Jane', 'Doe', 'janedoe@example.com', 234567890),\n",
    "(4, 'Alice', 'Smith', 'alicesmith@example.com', 345678901),\n",
    "(5, 'Bob', 'Smith', 'bobsmith@example.com', 456789012),\n",
    "(6, 'David', 'Lee', 'davidlee@example.com', 567890123),\n",
    "(7, 'Sarah', 'Kim', 'sarahkim@example.com', 678901234),\n",
    "(8, 'James', 'Johnson', 'jamesjohnson@example.com', 789012345),\n",
    "(9, 'Emily', 'Davis', 'emilydavis@example.com', 890123456),\n",
    "(10, 'William', 'Brown', 'williambrown@example.com', 901234567),\n",
    "(11, 'Olivia', 'Taylor', 'oliviataylor@example.com', 123456789),\n",
    "(12, 'Michael', 'Miller', 'michaelmiller@example.com', 234567890);\"\"\"\n",
    "\n",
    "print(\"Inserting data in Customers table.\")\n",
    "# Populate Customers table\n",
    "cursor.execute(insert_customers)\n",
    "print(\"Total number of rows modifieds/inserted by this query: \", cursor.rowcount)\n",
    "# Once the query is executed, you commit the change into the database \n",
    "connection.commit()\n",
    "\n",
    "# Cheking if everthing is allright.\n",
    "show_Customers=\"\"\"SELECT * FROM Customers\"\"\"\n",
    "cursor.execute(show_Customers)\n",
    "# Retrieve the column names\n",
    "cols = cursor.column_names\n",
    "# Printing columns\n",
    "print(cols)\n",
    "# Printing the table\n",
    "result = cursor.fetchall()\n",
    "for results in result:\n",
    "    print(results)"
   ]
  },
  {
   "cell_type": "code",
   "execution_count": 28,
   "metadata": {},
   "outputs": [
    {
     "name": "stdout",
     "output_type": "stream",
     "text": [
      "Inserting data in Bookings table.\n",
      "Total number of rows modifieds/inserted by this query:  0\n",
      "('BookingID', 'BookingSlot', 'EmployeeID', 'CustomersID', 'DeliveryID', 'OrderID', 'TableNO', 'BookingDate')\n",
      "(1, datetime.timedelta(seconds=68400), 5, 9, 1, 1, 4, datetime.date(2022, 10, 15))\n",
      "(2, datetime.timedelta(seconds=68400), 8, 4, 2, 2, 2, datetime.date(2022, 10, 15))\n",
      "(3, datetime.timedelta(seconds=54000), 7, 8, 3, 5, 1, datetime.date(2022, 10, 15))\n",
      "(4, datetime.timedelta(seconds=63000), 7, 12, 4, 8, 3, datetime.date(2022, 10, 15))\n",
      "(5, datetime.timedelta(seconds=66600), 5, 7, 5, 3, 1, datetime.date(2022, 10, 15))\n",
      "(6, datetime.timedelta(seconds=72000), 8, 2, 6, 4, 3, datetime.date(2022, 10, 15))\n",
      "(7, datetime.timedelta(seconds=64800), 5, 7, 7, 6, 5, None)\n",
      "(8, datetime.timedelta(seconds=64800), 5, 3, 8, 7, 3, None)\n",
      "(9, datetime.timedelta(seconds=61200), 5, 9, 9, 9, 2, None)\n",
      "(10, datetime.timedelta(seconds=68400), 5, 11, 10, 10, 2, None)\n"
     ]
    }
   ],
   "source": [
    "#*******************************************************#\n",
    "# Insert query to populate \"Bookings\" table:\n",
    "#*******************************************************#\n",
    "insert_bookings=\"\"\"\n",
    "INSERT IGNORE INTO Bookings (BookingID, BookingSlot, EmployeeID, CustomersID, DeliveryID, OrderID, TableNO, BookingDate)\n",
    "VALUES\n",
    "(1, '19:00:00', 5, 9, 1, 1, 1, 2022-10-15),\n",
    "(2, '19:00:00', 8, 4, 2, 2, 2, 2022-10-15),\n",
    "(3, '15:00:00', 7, 8, 3, 5, 3, 2022-10-15),\n",
    "(4, '17:30:00', 7, 12, 4, 8, 4, 2022-10-15),\n",
    "(5, '18:30:00', 5, 7, 5, 3, 5, 2022-10-15),\n",
    "(6, '20:00:00', 8, 2, 6, 4, 6, 2022-10-15),\n",
    "(7, '18:00:00', 5, 7, 7, 6, 5, 2022-10-10),\n",
    "(8, '18:00:00', 5, 3, 8, 7, 3, 2022-10-12),\n",
    "(9, '17:00:00', 5, 9, 9, 9, 2, 2022-10-11),\n",
    "(10, '19:00:00', 5, 11, 10, 10, 2, 2022-10-13);\"\"\"\n",
    "\n",
    "print(\"Inserting data in Bookings table.\")\n",
    "# Populate Bookings table\n",
    "cursor.execute(insert_bookings)\n",
    "print(\"Total number of rows modifieds/inserted by this query: \", cursor.rowcount)\n",
    "# Once the query is executed, you commit the change into the database \n",
    "connection.commit()\n",
    "\n",
    "# Cheking if everthing is allright.\n",
    "show_bookings=\"\"\"SELECT * FROM Bookings\"\"\"\n",
    "cursor.execute(show_bookings)\n",
    "# Retrieve the column names\n",
    "cols = cursor.column_names\n",
    "# Printing columns\n",
    "print(cols)\n",
    "# Printing the table\n",
    "result = cursor.fetchall()\n",
    "for results in result:\n",
    "    print(results)"
   ]
  },
  {
   "cell_type": "code",
   "execution_count": 16,
   "metadata": {},
   "outputs": [
    {
     "name": "stdout",
     "output_type": "stream",
     "text": [
      "Inserting data in DeliveryStatus table.\n",
      "Total number of rows modifieds/inserted by this query:  4\n",
      "('DeliveryID', 'Status', 'Date')\n",
      "(1, 'Being prepared', datetime.date(2023, 4, 4))\n",
      "(2, 'Being prepared', datetime.date(2023, 4, 4))\n",
      "(3, 'Delivered', datetime.date(2023, 4, 4))\n",
      "(4, 'Delivered', datetime.date(2023, 4, 4))\n",
      "(5, 'Delivered', datetime.date(2023, 4, 4))\n",
      "(6, 'Waiting in line', datetime.date(2023, 4, 4))\n",
      "(7, 'Delivered', datetime.date(2022, 10, 10))\n",
      "(8, 'Delivered', datetime.date(2022, 10, 12))\n",
      "(9, 'Delivered', datetime.date(2022, 10, 11))\n",
      "(10, 'Delivered', datetime.date(2022, 10, 13))\n"
     ]
    }
   ],
   "source": [
    "#*******************************************************#\n",
    "# Insert query to populate \"DeliveryStatus\" table:\n",
    "#*******************************************************#\n",
    "insert_DeliveryStatus=\"\"\"\n",
    "INSERT IGNORE INTO deliverystatus (DeliveryID, Status, Date)\n",
    "VALUES\n",
    "(1, 'Being prepared', '2022-10-15'),\n",
    "(2, 'Being prepared', '2022-10-15'),\n",
    "(3, 'Delivered', '2022-10-15'),\n",
    "(4, 'Delivered', '2022-10-15'),\n",
    "(5, 'Delivered', '2022-10-15'),\n",
    "(6, 'Waiting in line', '2022-10-15'),\n",
    "(7, 'Delivered', '2022-10-10'),\n",
    "(8, 'Delivered', '2022-10-12'),\n",
    "(9, 'Delivered', '2022-10-11'),\n",
    "(10, 'Delivered', '2022-10-13');\"\"\"\n",
    "\n",
    "print(\"Inserting data in DeliveryStatus table.\")\n",
    "# Populate DeliveryStatus table\n",
    "cursor.execute(insert_DeliveryStatus)\n",
    "print(\"Total number of rows modifieds/inserted by this query: \", cursor.rowcount)\n",
    "# Once the query is executed, you commit the change into the database \n",
    "connection.commit()\n",
    "\n",
    "# Cheking if everthing is allright.\n",
    "show_deliverystatus=\"\"\"SELECT * FROM deliverystatus\"\"\"\n",
    "cursor.execute(show_deliverystatus)\n",
    "# Retrieve the column names\n",
    "cols = cursor.column_names\n",
    "# Printing columns\n",
    "print(cols)\n",
    "# Printing the table\n",
    "result = cursor.fetchall()\n",
    "for results in result:\n",
    "    print(results)"
   ]
  },
  {
   "cell_type": "code",
   "execution_count": 17,
   "metadata": {},
   "outputs": [
    {
     "name": "stdout",
     "output_type": "stream",
     "text": [
      "Inserting data in Orders table.\n",
      "Total number of rows modifieds/inserted by this query:  0\n",
      "('OrderID', 'MenuID', 'BillAmount', 'Quantity', 'BookingID')\n",
      "(1, 12, Decimal('25.00'), 1, 1)\n",
      "(2, 7, Decimal('40.00'), 2, 2)\n",
      "(3, 5, Decimal('30.00'), 1, 3)\n",
      "(4, 3, Decimal('225.00'), 1, 4)\n",
      "(5, 8, Decimal('45.00'), 2, 5)\n",
      "(6, 2, Decimal('15.00'), 1, 6)\n",
      "(7, 6, Decimal('35.00'), 1, 1)\n",
      "(8, 4, Decimal('175.00'), 1, 2)\n",
      "(9, 11, Decimal('50.00'), 3, 3)\n",
      "(10, 9, Decimal('25.00'), 1, 4)\n",
      "(11, 1, Decimal('60.00'), 2, 5)\n",
      "(12, 10, Decimal('40.00'), 2, 6)\n"
     ]
    }
   ],
   "source": [
    "#*******************************************************#\n",
    "# Insert query to populate \"Orders\" table:\n",
    "#*******************************************************#\n",
    "insert_orders=\"\"\"\n",
    "INSERT IGNORE INTO Orders (OrderID, MenuID, BillAmount, Quantity)\n",
    "VALUES\n",
    "(1, 12, 25, 1),\n",
    "(2, 7, 40, 2),\n",
    "(3, 5, 30, 1),\n",
    "(4, 3, 225, 1),\n",
    "(5, 8, 45, 2),\n",
    "(6, 2, 15, 1),\n",
    "(7, 6, 35, 1),\n",
    "(8, 4, 175, 1),\n",
    "(9, 11, 50, 3),\n",
    "(10, 9, 25, 1),\n",
    "(11, 1, 60, 2),\n",
    "(12, 10, 40, 2);\"\"\"\n",
    "\n",
    "print(\"Inserting data in Orders table.\")\n",
    "# Populate Bookings table\n",
    "cursor.execute(insert_orders)\n",
    "print(\"Total number of rows modifieds/inserted by this query: \", cursor.rowcount)\n",
    "# Once the query is executed, you commit the change into the database \n",
    "connection.commit()\n",
    "\n",
    "# Cheking if everthing is allright.\n",
    "show_orders=\"\"\"SELECT * FROM Orders\"\"\"\n",
    "cursor.execute(show_orders)\n",
    "# Retrieve the column names\n",
    "cols = cursor.column_names\n",
    "# Printing columns\n",
    "print(cols)\n",
    "# Printing the table\n",
    "result = cursor.fetchall()\n",
    "for results in result:\n",
    "    print(results)"
   ]
  },
  {
   "cell_type": "code",
   "execution_count": 18,
   "metadata": {},
   "outputs": [
    {
     "name": "stdout",
     "output_type": "stream",
     "text": [
      "Created insert variable.\n",
      "Inserting data in Employees table.\n",
      "Total number of rows modifieds/inserted by this query:  0\n",
      "('EmployeeID', 'Name', 'Role', 'Address', 'Contact_Number', 'Email', 'Annual_Salary')\n",
      "(1, 'Mario Gollini', 'Manager', '724, Parsley Lane, Old Town, Chicago, IL', 351258074, 'Mario.g@littlelemon.com', '$70,000')\n",
      "(2, 'Adrian Gollini', 'Assistant Manager', '334, Dill Square, Lincoln Park, Chicago, IL', 351474048, 'Adrian.g@littlelemon.com', '$65,000')\n",
      "(3, 'Giorgos Dioudis', 'Head Chef', '879 Sage Street, West Loop, Chicago, IL', 351970582, 'Giorgos.d@littlelemon.com', '$50,000')\n",
      "(4, 'Fatma Kaya', 'Assistant Chef', '132 Bay Lane, Chicago, IL', 351963569, 'Fatma.k@littlelemon.com', '$45,000')\n",
      "(5, 'Elena Salvai', 'Head Waiter', '989 Thyme Square, EdgeWater, Chicago, IL', 351074198, 'Elena.s@littlelemon.com', '$40,000')\n",
      "(6, 'John Millar', 'Receptionist', '245 Dill Square, Lincoln Park, Chicago, IL', 351584508, 'John.m@littlelemon.com', '$35,000')\n",
      "(7, 'Tom Smith', 'Waiter', '111 Olive Ave, Lakeview, Chicago, IL', 351753951, 'Tom.s@littlelemon.com', '$30,000')\n",
      "(8, 'Linda Brown', 'Waiter', '432 Cherry St, River North, Chicago, IL', 351852369, 'Linda.b@littlelemon.com', '$30,000')\n"
     ]
    }
   ],
   "source": [
    "#*******************************************************#\n",
    "# Insert query to populate \"Employees\" table:\n",
    "#*******************************************************#\n",
    "insert_employees = \"\"\"\n",
    "INSERT IGNORE INTO employees (EmployeeID, Name, Role, Address, Contact_Number, Email, Annual_Salary)\n",
    "VALUES\n",
    "(1,'Mario Gollini','Manager','724, Parsley Lane, Old Town, Chicago, IL',351258074,'Mario.g@littlelemon.com','$70,000'),\n",
    "(2,'Adrian Gollini','Assistant Manager','334, Dill Square, Lincoln Park, Chicago, IL',351474048,'Adrian.g@littlelemon.com','$65,000'),\n",
    "(3,'Giorgos Dioudis','Head Chef','879 Sage Street, West Loop, Chicago, IL',351970582,'Giorgos.d@littlelemon.com','$50,000'),\n",
    "(4,'Fatma Kaya','Assistant Chef','132 Bay Lane, Chicago, IL',351963569,'Fatma.k@littlelemon.com','$45,000'),\n",
    "(5,'Elena Salvai','Head Waiter','989 Thyme Square, EdgeWater, Chicago, IL',351074198,'Elena.s@littlelemon.com','$40,000'),\n",
    "(6,'John Millar','Receptionist','245 Dill Square, Lincoln Park, Chicago, IL',351584508,'John.m@littlelemon.com','$35,000'),\n",
    "(7,'Tom Smith','Waiter','111 Olive Ave, Lakeview, Chicago, IL',351753951,'Tom.s@littlelemon.com','$30,000'),\n",
    "(8,'Linda Brown','Waiter','432 Cherry St, River North, Chicago, IL',351852369,'Linda.b@littlelemon.com','$30,000');\n",
    "\"\"\"\n",
    "print(\"Created insert variable.\")\n",
    "\n",
    "print(\"Inserting data in Employees table.\")\n",
    "# Populate Employees table\n",
    "cursor.execute(insert_employees)\n",
    "print(\"Total number of rows modifieds/inserted by this query: \", cursor.rowcount)\n",
    "# Once the query is executed, you commit the change into the database \n",
    "connection.commit()\n",
    "\n",
    "# Cheking if everthing is allright.\n",
    "show_Employees=\"\"\"SELECT * FROM Employees\"\"\"\n",
    "cursor.execute(show_Employees)\n",
    "# Retrieve the column names\n",
    "cols = cursor.column_names\n",
    "# Printing columns\n",
    "print(cols)\n",
    "# Printing the table\n",
    "result = cursor.fetchall()\n",
    "for results in result:\n",
    "    print(results)"
   ]
  },
  {
   "cell_type": "code",
   "execution_count": 29,
   "metadata": {},
   "outputs": [
    {
     "name": "stdout",
     "output_type": "stream",
     "text": [
      "The cursor is closed.\n",
      "MySQL connection is closed.\n"
     ]
    }
   ],
   "source": [
    "# Let's close the cursor and the connection\n",
    "if connection.is_connected():\n",
    "    cursor.close()\n",
    "    print(\"The cursor is closed.\")\n",
    "    connection.close()\n",
    "    print(\"MySQL connection is closed.\")\n",
    "else:\n",
    "    print(\"Connection is already closed\")\n",
    "    cursor.close()"
   ]
  },
  {
   "cell_type": "code",
   "execution_count": null,
   "metadata": {},
   "outputs": [],
   "source": [
    "USE littlelemonfinaldb;\n",
    "SELECT customers.CustomersID, CONCAT(customers.GuestFirstName, ' ', customers.GuestLastName) AS FullName, orders.OrderID AS \"Order ID\", orders.BillAmount, menus.MenuName, menuitems.CourseName, menuitems.StarterName\n",
    "FROM customers\n",
    "JOIN bookings ON bookings.CustomersID = customers.CustomersID\n",
    "RIGHT JOIN orders ON orders.OrderID = bookings.OrderID\n",
    "LEFT JOIN menus ON menus.MenuID = orders.MenuID\n",
    "LEFT JOIN menuitems ON menuitems.ItemID = menus.ItemID\n",
    "WHERE orders.BillAmount > 150\n",
    "ORDER BY orders.BillAmount ASC;"
   ]
  }
 ],
 "metadata": {
  "kernelspec": {
   "display_name": "Python 3",
   "language": "python",
   "name": "python3"
  },
  "language_info": {
   "codemirror_mode": {
    "name": "ipython",
    "version": 3
   },
   "file_extension": ".py",
   "mimetype": "text/x-python",
   "name": "python",
   "nbconvert_exporter": "python",
   "pygments_lexer": "ipython3",
   "version": "3.11.3"
  },
  "orig_nbformat": 4
 },
 "nbformat": 4,
 "nbformat_minor": 2
}
